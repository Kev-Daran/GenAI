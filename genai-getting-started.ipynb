{
 "cells": [
  {
   "cell_type": "code",
   "execution_count": 1,
   "id": "89d80cfc",
   "metadata": {
    "_cell_guid": "b1076dfc-b9ad-4769-8c92-a6c4dae69d19",
    "_uuid": "8f2839f25d086af736a60e9eeb907d3b93b6e0e5",
    "execution": {
     "iopub.execute_input": "2025-04-03T02:45:31.122398Z",
     "iopub.status.busy": "2025-04-03T02:45:31.122030Z",
     "iopub.status.idle": "2025-04-03T02:45:32.050389Z",
     "shell.execute_reply": "2025-04-03T02:45:32.049309Z"
    },
    "papermill": {
     "duration": 0.938882,
     "end_time": "2025-04-03T02:45:32.052375",
     "exception": false,
     "start_time": "2025-04-03T02:45:31.113493",
     "status": "completed"
    },
    "tags": []
   },
   "outputs": [],
   "source": [
    "# This Python 3 environment comes with many helpful analytics libraries installed\n",
    "# It is defined by the kaggle/python Docker image: https://github.com/kaggle/docker-python\n",
    "# For example, here's several helpful packages to load\n",
    "\n",
    "import numpy as np # linear algebra\n",
    "import pandas as pd # data processing, CSV file I/O (e.g. pd.read_csv)\n",
    "\n",
    "# Input data files are available in the read-only \"../input/\" directory\n",
    "# For example, running this (by clicking run or pressing Shift+Enter) will list all files under the input directory\n",
    "\n",
    "import os\n",
    "for dirname, _, filenames in os.walk('/kaggle/input'):\n",
    "    for filename in filenames:\n",
    "        print(os.path.join(dirname, filename))\n",
    "\n",
    "# You can write up to 20GB to the current directory (/kaggle/working/) that gets preserved as output when you create a version using \"Save & Run All\" \n",
    "# You can also write temporary files to /kaggle/temp/, but they won't be saved outside of the current session"
   ]
  },
  {
   "cell_type": "code",
   "execution_count": 2,
   "id": "acfa45f7",
   "metadata": {
    "execution": {
     "iopub.execute_input": "2025-04-03T02:45:32.064389Z",
     "iopub.status.busy": "2025-04-03T02:45:32.063884Z",
     "iopub.status.idle": "2025-04-03T02:45:40.929807Z",
     "shell.execute_reply": "2025-04-03T02:45:40.928462Z"
    },
    "papermill": {
     "duration": 8.874122,
     "end_time": "2025-04-03T02:45:40.931955",
     "exception": false,
     "start_time": "2025-04-03T02:45:32.057833",
     "status": "completed"
    },
    "tags": []
   },
   "outputs": [
    {
     "name": "stdout",
     "output_type": "stream",
     "text": [
      "\u001b[2K   \u001b[90m━━━━━━━━━━━━━━━━━━━━━━━━━━━━━━━━━━━━━━━━\u001b[0m \u001b[32m144.7/144.7 kB\u001b[0m \u001b[31m4.1 MB/s\u001b[0m eta \u001b[36m0:00:00\u001b[0m\r\n",
      "\u001b[2K   \u001b[90m━━━━━━━━━━━━━━━━━━━━━━━━━━━━━━━━━━━━━━━━\u001b[0m \u001b[32m100.9/100.9 kB\u001b[0m \u001b[31m3.7 MB/s\u001b[0m eta \u001b[36m0:00:00\u001b[0m\r\n",
      "\u001b[?25h"
     ]
    }
   ],
   "source": [
    "!pip uninstall -qqy jupyterlab\n",
    "!pip install -U -q 'google-genai==1.7.0'"
   ]
  },
  {
   "cell_type": "code",
   "execution_count": 3,
   "id": "7028f4a3",
   "metadata": {
    "execution": {
     "iopub.execute_input": "2025-04-03T02:45:40.944619Z",
     "iopub.status.busy": "2025-04-03T02:45:40.944232Z",
     "iopub.status.idle": "2025-04-03T02:45:42.287878Z",
     "shell.execute_reply": "2025-04-03T02:45:42.286673Z"
    },
    "papermill": {
     "duration": 1.352184,
     "end_time": "2025-04-03T02:45:42.289910",
     "exception": false,
     "start_time": "2025-04-03T02:45:40.937726",
     "status": "completed"
    },
    "tags": []
   },
   "outputs": [],
   "source": [
    "from google import genai\n",
    "from google.genai import types\n",
    "\n",
    "from IPython.display import HTML, Markdown, display"
   ]
  },
  {
   "cell_type": "code",
   "execution_count": 4,
   "id": "edf59385",
   "metadata": {
    "execution": {
     "iopub.execute_input": "2025-04-03T02:45:42.302459Z",
     "iopub.status.busy": "2025-04-03T02:45:42.301860Z",
     "iopub.status.idle": "2025-04-03T02:45:42.546368Z",
     "shell.execute_reply": "2025-04-03T02:45:42.545228Z"
    },
    "papermill": {
     "duration": 0.252932,
     "end_time": "2025-04-03T02:45:42.548410",
     "exception": false,
     "start_time": "2025-04-03T02:45:42.295478",
     "status": "completed"
    },
    "tags": []
   },
   "outputs": [],
   "source": [
    "from google.api_core import retry\n",
    "\n",
    "is_retriable = lambda e: (isinstance(e, genai.errors.APIError) and e.code in {429, 503})\n",
    "\n",
    "genai.models.Models.generate_content = retry.Retry(predicate = is_retriable)(genai.models.Models.generate_content)"
   ]
  },
  {
   "cell_type": "code",
   "execution_count": 5,
   "id": "a774fd90",
   "metadata": {
    "execution": {
     "iopub.execute_input": "2025-04-03T02:45:42.560643Z",
     "iopub.status.busy": "2025-04-03T02:45:42.560080Z",
     "iopub.status.idle": "2025-04-03T02:45:42.633747Z",
     "shell.execute_reply": "2025-04-03T02:45:42.632631Z"
    },
    "papermill": {
     "duration": 0.08202,
     "end_time": "2025-04-03T02:45:42.635860",
     "exception": false,
     "start_time": "2025-04-03T02:45:42.553840",
     "status": "completed"
    },
    "tags": []
   },
   "outputs": [],
   "source": [
    "from kaggle_secrets import UserSecretsClient\n",
    "user_secrets = UserSecretsClient()\n",
    "GOOGLE_API_KEY = user_secrets.get_secret(\"GOOGLE_API_KEY\")"
   ]
  },
  {
   "cell_type": "code",
   "execution_count": 6,
   "id": "f1257596",
   "metadata": {
    "execution": {
     "iopub.execute_input": "2025-04-03T02:45:42.648058Z",
     "iopub.status.busy": "2025-04-03T02:45:42.647734Z",
     "iopub.status.idle": "2025-04-03T02:45:46.305774Z",
     "shell.execute_reply": "2025-04-03T02:45:46.304215Z"
    },
    "papermill": {
     "duration": 3.667091,
     "end_time": "2025-04-03T02:45:46.308458",
     "exception": false,
     "start_time": "2025-04-03T02:45:42.641367",
     "status": "completed"
    },
    "tags": []
   },
   "outputs": [
    {
     "name": "stdout",
     "output_type": "stream",
     "text": [
      "Okay, imagine you have a really, really smart puppy named Sparky.\n",
      "\n",
      "Sparky is smart, but at first, he only knows a few things. He knows what \"sit\" means because you showed him over and over again. You gave him a treat every time he sat, so he learned that \"sit\" and \"treat\" go together!\n",
      "\n",
      "That's kind of like AI!\n",
      "\n",
      "**AI, or Artificial Intelligence, is like teaching a computer to be smart like Sparky, but about lots of different things, not just sitting!**\n",
      "\n",
      "Here's how it works:\n",
      "\n",
      "*   **We give the computer lots and lots of information.** Imagine showing Sparky hundreds of pictures of cats and telling him \"cat.\"  The computer is like that, except we can show it millions!\n",
      "*   **The computer looks for patterns.** It figures out what all the cats have in common - pointy ears, whiskers, furry tails.\n",
      "*   **Then, when you show it a new picture, it can guess if it's a cat or not!**  Just like Sparky, but with pictures of cats instead of you saying \"sit\".\n",
      "\n",
      "**So, AI is about:**\n",
      "\n",
      "*   **Learning:** The computer learns from lots of examples.\n",
      "*   **Recognizing:**  It can recognize things like faces, voices, or even what you're writing.\n",
      "*   **Thinking (kind of):** It can make guesses and choices based on what it's learned.\n",
      "\n",
      "**Where do we see AI?**\n",
      "\n",
      "*   **On your Tablet:** Maybe you have a game that gets harder as you play it - that's AI learning how good you are!\n",
      "*   **On YouTube Kids:** AI helps YouTube Kids find videos that are safe for you to watch.\n",
      "*   **Voice assistants (like Siri or Alexa):** When you ask a question, they use AI to understand what you said and find the answer.\n",
      "\n",
      "**Important thing to remember:**\n",
      "\n",
      "AI isn't magic! It's just a computer program that has learned to be smart. It can do amazing things, but it still needs people to teach it!\n",
      "\n",
      "So, AI is like a super-smart puppy who learns from everything you show it!\n",
      "\n"
     ]
    }
   ],
   "source": [
    "client = genai.Client(api_key = GOOGLE_API_KEY)\n",
    "\n",
    "response = client.models.generate_content(\n",
    "    model = 'gemini-2.0-flash',\n",
    "    contents = 'Explain AI to me like Im a kid'\n",
    ")\n",
    "\n",
    "print(response.text)"
   ]
  },
  {
   "cell_type": "code",
   "execution_count": 7,
   "id": "a168d92e",
   "metadata": {
    "execution": {
     "iopub.execute_input": "2025-04-03T02:45:46.322250Z",
     "iopub.status.busy": "2025-04-03T02:45:46.321930Z",
     "iopub.status.idle": "2025-04-03T02:45:46.329117Z",
     "shell.execute_reply": "2025-04-03T02:45:46.327981Z"
    },
    "papermill": {
     "duration": 0.015825,
     "end_time": "2025-04-03T02:45:46.330856",
     "exception": false,
     "start_time": "2025-04-03T02:45:46.315031",
     "status": "completed"
    },
    "tags": []
   },
   "outputs": [
    {
     "data": {
      "text/markdown": [
       "Okay, imagine you have a really, really smart puppy named Sparky.\n",
       "\n",
       "Sparky is smart, but at first, he only knows a few things. He knows what \"sit\" means because you showed him over and over again. You gave him a treat every time he sat, so he learned that \"sit\" and \"treat\" go together!\n",
       "\n",
       "That's kind of like AI!\n",
       "\n",
       "**AI, or Artificial Intelligence, is like teaching a computer to be smart like Sparky, but about lots of different things, not just sitting!**\n",
       "\n",
       "Here's how it works:\n",
       "\n",
       "*   **We give the computer lots and lots of information.** Imagine showing Sparky hundreds of pictures of cats and telling him \"cat.\"  The computer is like that, except we can show it millions!\n",
       "*   **The computer looks for patterns.** It figures out what all the cats have in common - pointy ears, whiskers, furry tails.\n",
       "*   **Then, when you show it a new picture, it can guess if it's a cat or not!**  Just like Sparky, but with pictures of cats instead of you saying \"sit\".\n",
       "\n",
       "**So, AI is about:**\n",
       "\n",
       "*   **Learning:** The computer learns from lots of examples.\n",
       "*   **Recognizing:**  It can recognize things like faces, voices, or even what you're writing.\n",
       "*   **Thinking (kind of):** It can make guesses and choices based on what it's learned.\n",
       "\n",
       "**Where do we see AI?**\n",
       "\n",
       "*   **On your Tablet:** Maybe you have a game that gets harder as you play it - that's AI learning how good you are!\n",
       "*   **On YouTube Kids:** AI helps YouTube Kids find videos that are safe for you to watch.\n",
       "*   **Voice assistants (like Siri or Alexa):** When you ask a question, they use AI to understand what you said and find the answer.\n",
       "\n",
       "**Important thing to remember:**\n",
       "\n",
       "AI isn't magic! It's just a computer program that has learned to be smart. It can do amazing things, but it still needs people to teach it!\n",
       "\n",
       "So, AI is like a super-smart puppy who learns from everything you show it!\n"
      ],
      "text/plain": [
       "<IPython.core.display.Markdown object>"
      ]
     },
     "execution_count": 7,
     "metadata": {},
     "output_type": "execute_result"
    }
   ],
   "source": [
    "Markdown(response.text)"
   ]
  },
  {
   "cell_type": "code",
   "execution_count": 8,
   "id": "656dc7f2",
   "metadata": {
    "execution": {
     "iopub.execute_input": "2025-04-03T02:45:46.343873Z",
     "iopub.status.busy": "2025-04-03T02:45:46.343414Z",
     "iopub.status.idle": "2025-04-03T02:45:46.761110Z",
     "shell.execute_reply": "2025-04-03T02:45:46.759950Z"
    },
    "papermill": {
     "duration": 0.426333,
     "end_time": "2025-04-03T02:45:46.763064",
     "exception": false,
     "start_time": "2025-04-03T02:45:46.336731",
     "status": "completed"
    },
    "tags": []
   },
   "outputs": [
    {
     "name": "stdout",
     "output_type": "stream",
     "text": [
      "Hello Zlork! It's nice to meet you. How can I help you today?\n",
      "\n"
     ]
    }
   ],
   "source": [
    "chat = client.chats.create(model='gemini-2.0-flash', history = [])\n",
    "response = chat.send_message('Hello! My name is Zlork')\n",
    "print(response.text)"
   ]
  },
  {
   "cell_type": "code",
   "execution_count": 9,
   "id": "f3a8410d",
   "metadata": {
    "execution": {
     "iopub.execute_input": "2025-04-03T02:45:46.776005Z",
     "iopub.status.busy": "2025-04-03T02:45:46.775652Z",
     "iopub.status.idle": "2025-04-03T02:45:50.955307Z",
     "shell.execute_reply": "2025-04-03T02:45:50.953826Z"
    },
    "papermill": {
     "duration": 4.188474,
     "end_time": "2025-04-03T02:45:50.957383",
     "exception": false,
     "start_time": "2025-04-03T02:45:46.768909",
     "status": "completed"
    },
    "tags": []
   },
   "outputs": [
    {
     "name": "stdout",
     "output_type": "stream",
     "text": [
      "Okay, Zlork! Here's some dinosaur information, covering a few different angles:\n",
      "\n",
      "**General Facts:**\n",
      "\n",
      "*   **What are they?** Dinosaurs were a diverse group of reptiles that dominated terrestrial ecosystems for over 160 million years, from the late Triassic period (about 230 million years ago) until the end of the Cretaceous period (about 66 million years ago).\n",
      "*   **Where did they live?** All over the world! Dinosaur fossils have been found on every continent, even Antarctica.\n",
      "*   **When did they live?** The Mesozoic Era, often called the Age of Reptiles. It's divided into the Triassic, Jurassic, and Cretaceous periods.\n",
      "*   **How did they die out?** Most non-avian dinosaurs went extinct in a mass extinction event at the end of the Cretaceous period, likely caused by a large asteroid impact. This event also wiped out many other forms of life.\n",
      "*   **Are they all extinct?** Not entirely! Birds are now widely accepted by scientists as being direct descendants of small, feathered theropod dinosaurs. So, technically, dinosaurs are still with us!\n",
      "\n",
      "**Types of Dinosaurs (Broad Categories):**\n",
      "\n",
      "*   **Saurischians (Lizard-hipped):**\n",
      "    *   **Theropods:** Bipedal, mostly carnivorous dinosaurs. Includes iconic species like *Tyrannosaurus rex*, *Velociraptor*, and *Spinosaurus*. Birds evolved from small theropods.\n",
      "    *   **Sauropodomorphs:** Long-necked, herbivorous dinosaurs. Includes the giant sauropods like *Brachiosaurus*, *Apatosaurus*, and *Diplodocus*.\n",
      "\n",
      "*   **Ornithischians (Bird-hipped):**\n",
      "    *   A diverse group of herbivorous dinosaurs with a \"bird-like\" hip structure (although birds actually evolved from the lizard-hipped saurischians!). Includes:\n",
      "        *   **Stegosaurs:** Known for their plates and spiked tails. *Stegosaurus* is a famous example.\n",
      "        *   **Ankylosaurs:** Heavily armored dinosaurs with clubbed tails. *Ankylosaurus* is a prime example.\n",
      "        *   **Ornithopods:** A diverse group of herbivores, including *Iguanodon*, *Parasaurolophus*, and hadrosaurs (duck-billed dinosaurs).\n",
      "        *   **Ceratopsians:** Horned dinosaurs like *Triceratops* and *Styracosaurus*.\n",
      "        *   **Pachycephalosaurs:** Dome-headed dinosaurs. *Pachycephalosaurus* is well-known.\n",
      "\n",
      "**Fun Facts:**\n",
      "\n",
      "*   *Argentinosaurus* is one of the largest dinosaurs ever discovered, estimated to be over 100 feet long.\n",
      "*   *Microraptor* was a small, feathered dinosaur with four wings, one on each arm and leg.\n",
      "*   Fossil evidence, like dinosaur footprints and bite marks, tells us a lot about how dinosaurs behaved and interacted with each other.\n",
      "*   Paleontologists are still discovering new dinosaur species and learning more about these fascinating creatures all the time.\n",
      "\n",
      "**Do you have any specific questions about dinosaurs that you'd like me to answer? For example, are you curious about a particular dinosaur, or about where to find fossils? Let me know what you're interested in!**\n",
      "\n"
     ]
    }
   ],
   "source": [
    "response = chat.send_message('Can you tell me something about dinosaurs?')\n",
    "print(response.text)"
   ]
  },
  {
   "cell_type": "code",
   "execution_count": 10,
   "id": "96ebf3ed",
   "metadata": {
    "execution": {
     "iopub.execute_input": "2025-04-03T02:45:50.970419Z",
     "iopub.status.busy": "2025-04-03T02:45:50.970025Z",
     "iopub.status.idle": "2025-04-03T02:45:50.975638Z",
     "shell.execute_reply": "2025-04-03T02:45:50.974672Z"
    },
    "papermill": {
     "duration": 0.014102,
     "end_time": "2025-04-03T02:45:50.977372",
     "exception": false,
     "start_time": "2025-04-03T02:45:50.963270",
     "status": "completed"
    },
    "tags": []
   },
   "outputs": [
    {
     "data": {
      "text/markdown": [
       "Okay, Zlork! Here's some dinosaur information, covering a few different angles:\n",
       "\n",
       "**General Facts:**\n",
       "\n",
       "*   **What are they?** Dinosaurs were a diverse group of reptiles that dominated terrestrial ecosystems for over 160 million years, from the late Triassic period (about 230 million years ago) until the end of the Cretaceous period (about 66 million years ago).\n",
       "*   **Where did they live?** All over the world! Dinosaur fossils have been found on every continent, even Antarctica.\n",
       "*   **When did they live?** The Mesozoic Era, often called the Age of Reptiles. It's divided into the Triassic, Jurassic, and Cretaceous periods.\n",
       "*   **How did they die out?** Most non-avian dinosaurs went extinct in a mass extinction event at the end of the Cretaceous period, likely caused by a large asteroid impact. This event also wiped out many other forms of life.\n",
       "*   **Are they all extinct?** Not entirely! Birds are now widely accepted by scientists as being direct descendants of small, feathered theropod dinosaurs. So, technically, dinosaurs are still with us!\n",
       "\n",
       "**Types of Dinosaurs (Broad Categories):**\n",
       "\n",
       "*   **Saurischians (Lizard-hipped):**\n",
       "    *   **Theropods:** Bipedal, mostly carnivorous dinosaurs. Includes iconic species like *Tyrannosaurus rex*, *Velociraptor*, and *Spinosaurus*. Birds evolved from small theropods.\n",
       "    *   **Sauropodomorphs:** Long-necked, herbivorous dinosaurs. Includes the giant sauropods like *Brachiosaurus*, *Apatosaurus*, and *Diplodocus*.\n",
       "\n",
       "*   **Ornithischians (Bird-hipped):**\n",
       "    *   A diverse group of herbivorous dinosaurs with a \"bird-like\" hip structure (although birds actually evolved from the lizard-hipped saurischians!). Includes:\n",
       "        *   **Stegosaurs:** Known for their plates and spiked tails. *Stegosaurus* is a famous example.\n",
       "        *   **Ankylosaurs:** Heavily armored dinosaurs with clubbed tails. *Ankylosaurus* is a prime example.\n",
       "        *   **Ornithopods:** A diverse group of herbivores, including *Iguanodon*, *Parasaurolophus*, and hadrosaurs (duck-billed dinosaurs).\n",
       "        *   **Ceratopsians:** Horned dinosaurs like *Triceratops* and *Styracosaurus*.\n",
       "        *   **Pachycephalosaurs:** Dome-headed dinosaurs. *Pachycephalosaurus* is well-known.\n",
       "\n",
       "**Fun Facts:**\n",
       "\n",
       "*   *Argentinosaurus* is one of the largest dinosaurs ever discovered, estimated to be over 100 feet long.\n",
       "*   *Microraptor* was a small, feathered dinosaur with four wings, one on each arm and leg.\n",
       "*   Fossil evidence, like dinosaur footprints and bite marks, tells us a lot about how dinosaurs behaved and interacted with each other.\n",
       "*   Paleontologists are still discovering new dinosaur species and learning more about these fascinating creatures all the time.\n",
       "\n",
       "**Do you have any specific questions about dinosaurs that you'd like me to answer? For example, are you curious about a particular dinosaur, or about where to find fossils? Let me know what you're interested in!**\n"
      ],
      "text/plain": [
       "<IPython.core.display.Markdown object>"
      ]
     },
     "execution_count": 10,
     "metadata": {},
     "output_type": "execute_result"
    }
   ],
   "source": [
    "Markdown(response.text)"
   ]
  },
  {
   "cell_type": "code",
   "execution_count": 11,
   "id": "05498261",
   "metadata": {
    "execution": {
     "iopub.execute_input": "2025-04-03T02:45:50.990929Z",
     "iopub.status.busy": "2025-04-03T02:45:50.990562Z",
     "iopub.status.idle": "2025-04-03T02:45:51.587718Z",
     "shell.execute_reply": "2025-04-03T02:45:51.586439Z"
    },
    "papermill": {
     "duration": 0.60618,
     "end_time": "2025-04-03T02:45:51.589784",
     "exception": false,
     "start_time": "2025-04-03T02:45:50.983604",
     "status": "completed"
    },
    "tags": []
   },
   "outputs": [
    {
     "name": "stdout",
     "output_type": "stream",
     "text": [
      "Yes, Zlork, I remember your name is Zlork.\n",
      "\n"
     ]
    }
   ],
   "source": [
    "response = chat.send_message('Do you remember what my name is?')\n",
    "print(response.text)"
   ]
  },
  {
   "cell_type": "code",
   "execution_count": 12,
   "id": "93c92109",
   "metadata": {
    "execution": {
     "iopub.execute_input": "2025-04-03T02:45:51.604541Z",
     "iopub.status.busy": "2025-04-03T02:45:51.604157Z",
     "iopub.status.idle": "2025-04-03T02:45:51.680578Z",
     "shell.execute_reply": "2025-04-03T02:45:51.679536Z"
    },
    "papermill": {
     "duration": 0.086046,
     "end_time": "2025-04-03T02:45:51.682440",
     "exception": false,
     "start_time": "2025-04-03T02:45:51.596394",
     "status": "completed"
    },
    "tags": []
   },
   "outputs": [
    {
     "name": "stdout",
     "output_type": "stream",
     "text": [
      "models/chat-bison-001\n",
      "models/text-bison-001\n",
      "models/embedding-gecko-001\n",
      "models/gemini-1.0-pro-vision-latest\n",
      "models/gemini-pro-vision\n",
      "models/gemini-1.5-pro-latest\n",
      "models/gemini-1.5-pro-001\n",
      "models/gemini-1.5-pro-002\n",
      "models/gemini-1.5-pro\n",
      "models/gemini-1.5-flash-latest\n",
      "models/gemini-1.5-flash-001\n",
      "models/gemini-1.5-flash-001-tuning\n",
      "models/gemini-1.5-flash\n",
      "models/gemini-1.5-flash-002\n",
      "models/gemini-1.5-flash-8b\n",
      "models/gemini-1.5-flash-8b-001\n",
      "models/gemini-1.5-flash-8b-latest\n",
      "models/gemini-1.5-flash-8b-exp-0827\n",
      "models/gemini-1.5-flash-8b-exp-0924\n",
      "models/gemini-2.5-pro-exp-03-25\n",
      "models/gemini-2.0-flash-exp\n",
      "models/gemini-2.0-flash\n",
      "models/gemini-2.0-flash-001\n",
      "models/gemini-2.0-flash-exp-image-generation\n",
      "models/gemini-2.0-flash-lite-001\n",
      "models/gemini-2.0-flash-lite\n",
      "models/gemini-2.0-flash-lite-preview-02-05\n",
      "models/gemini-2.0-flash-lite-preview\n",
      "models/gemini-2.0-pro-exp\n",
      "models/gemini-2.0-pro-exp-02-05\n",
      "models/gemini-exp-1206\n",
      "models/gemini-2.0-flash-thinking-exp-01-21\n",
      "models/gemini-2.0-flash-thinking-exp\n",
      "models/gemini-2.0-flash-thinking-exp-1219\n",
      "models/learnlm-1.5-pro-experimental\n",
      "models/gemma-3-1b-it\n",
      "models/gemma-3-4b-it\n",
      "models/gemma-3-12b-it\n",
      "models/gemma-3-27b-it\n",
      "models/embedding-001\n",
      "models/text-embedding-004\n",
      "models/gemini-embedding-exp-03-07\n",
      "models/gemini-embedding-exp\n",
      "models/aqa\n",
      "models/imagen-3.0-generate-002\n"
     ]
    }
   ],
   "source": [
    "for model in client.models.list():\n",
    "    print(model.name)"
   ]
  },
  {
   "cell_type": "code",
   "execution_count": 13,
   "id": "a04ccce2",
   "metadata": {
    "execution": {
     "iopub.execute_input": "2025-04-03T02:45:51.696748Z",
     "iopub.status.busy": "2025-04-03T02:45:51.696396Z",
     "iopub.status.idle": "2025-04-03T02:45:51.764555Z",
     "shell.execute_reply": "2025-04-03T02:45:51.763303Z"
    },
    "papermill": {
     "duration": 0.077514,
     "end_time": "2025-04-03T02:45:51.766495",
     "exception": false,
     "start_time": "2025-04-03T02:45:51.688981",
     "status": "completed"
    },
    "tags": []
   },
   "outputs": [
    {
     "name": "stdout",
     "output_type": "stream",
     "text": [
      "{'description': 'Gemini 2.0 Flash',\n",
      " 'display_name': 'Gemini 2.0 Flash',\n",
      " 'input_token_limit': 1048576,\n",
      " 'name': 'models/gemini-2.0-flash',\n",
      " 'output_token_limit': 8192,\n",
      " 'supported_actions': ['generateContent', 'countTokens'],\n",
      " 'tuned_model_info': {},\n",
      " 'version': '2.0'}\n"
     ]
    }
   ],
   "source": [
    "from pprint import pprint\n",
    "\n",
    "for model in client.models.list():\n",
    "    if model.name == 'models/gemini-2.0-flash':\n",
    "        pprint(model.to_json_dict())\n",
    "        break"
   ]
  },
  {
   "cell_type": "code",
   "execution_count": 14,
   "id": "d94057f1",
   "metadata": {
    "execution": {
     "iopub.execute_input": "2025-04-03T02:45:51.780370Z",
     "iopub.status.busy": "2025-04-03T02:45:51.780000Z",
     "iopub.status.idle": "2025-04-03T02:45:53.380518Z",
     "shell.execute_reply": "2025-04-03T02:45:53.379418Z"
    },
    "papermill": {
     "duration": 1.609526,
     "end_time": "2025-04-03T02:45:53.382362",
     "exception": false,
     "start_time": "2025-04-03T02:45:51.772836",
     "status": "completed"
    },
    "tags": []
   },
   "outputs": [
    {
     "data": {
      "text/markdown": [
       "## The Weight of History: Exploring the Narrative Depths of Attack on Titan\n",
       "\n",
       "Hajime Isayama's *Attack on Titan* is more than just a visceral spectacle of giant, humanoid creatures devouring humanity. Beneath its shocking premise and thrilling action lies a complex and deeply affecting narrative that grapples with cycles of violence, the corrosive nature of hatred, and the responsibility of individuals in the face of historical trauma. From its seemingly simple beginnings within the Walls, the story evolves into a sprawling epic that challenges its characters, and its audience, to confront uncomfortable truths about war, prejudice, and the very nature of good and evil.\n",
       "\n",
       "The initial narrative focuses on Eren Yeager, a young boy living in the walled city of Shiganshina. The idyllic existence within the Walls is shattered when the Colossal and Armored Titans breach the outer barrier, unleashing a horde of smaller Titans and triggering a devastating massacre. Driven by a thirst for revenge against the Titans who stole his home and devoured his"
      ],
      "text/plain": [
       "<IPython.core.display.Markdown object>"
      ]
     },
     "execution_count": 14,
     "metadata": {},
     "output_type": "execute_result"
    }
   ],
   "source": [
    "from google.genai import types\n",
    "\n",
    "short_config = types.GenerateContentConfig(max_output_tokens = 200)\n",
    "\n",
    "response = client.models.generate_content(\n",
    "    model = 'gemini-2.0-flash',\n",
    "    config = short_config,\n",
    "    contents = 'Write a 1000 word essay on Attack on Titan storyline'\n",
    ")\n",
    "\n",
    "Markdown(response.text)"
   ]
  },
  {
   "cell_type": "code",
   "execution_count": 15,
   "id": "3ca9ec7a",
   "metadata": {
    "execution": {
     "iopub.execute_input": "2025-04-03T02:45:53.396720Z",
     "iopub.status.busy": "2025-04-03T02:45:53.396350Z",
     "iopub.status.idle": "2025-04-03T02:45:54.453992Z",
     "shell.execute_reply": "2025-04-03T02:45:54.452907Z"
    },
    "papermill": {
     "duration": 1.067238,
     "end_time": "2025-04-03T02:45:54.456246",
     "exception": false,
     "start_time": "2025-04-03T02:45:53.389008",
     "status": "completed"
    },
    "tags": []
   },
   "outputs": [
    {
     "data": {
      "text/markdown": [
       "Attack on Titan is a dark fantasy anime/manga set in a world where humanity is on the brink of extinction, besieged by giant humanoid creatures called Titans. Forced to live within concentric walls for protection, humanity's fragile peace is shattered when a colossal Titan breaches the outermost wall. The story follows Eren Yeager, his adopted sister Mikasa Ackerman, and their childhood friend Armin Arlert as they join the Survey Corps, a military branch dedicated to fighting the Titans and uncovering the truth behind their existence and the world outside the walls. The series is known for its intense action, compelling characters, intricate plot twists, and exploration of themes like freedom, survival, and the cyclical nature of hatred.\n"
      ],
      "text/plain": [
       "<IPython.core.display.Markdown object>"
      ]
     },
     "execution_count": 15,
     "metadata": {},
     "output_type": "execute_result"
    }
   ],
   "source": [
    "response = client.models.generate_content(\n",
    "    model = 'gemini-2.0-flash',\n",
    "    config = short_config,\n",
    "    contents = 'Write a short description of Attack on Titan'\n",
    ")\n",
    "\n",
    "Markdown(response.text)"
   ]
  },
  {
   "cell_type": "code",
   "execution_count": 16,
   "id": "9a2f9e11",
   "metadata": {
    "execution": {
     "iopub.execute_input": "2025-04-03T02:45:54.471689Z",
     "iopub.status.busy": "2025-04-03T02:45:54.471269Z",
     "iopub.status.idle": "2025-04-03T02:45:55.662844Z",
     "shell.execute_reply": "2025-04-03T02:45:55.661757Z"
    },
    "papermill": {
     "duration": 1.201076,
     "end_time": "2025-04-03T02:45:55.664667",
     "exception": false,
     "start_time": "2025-04-03T02:45:54.463591",
     "status": "completed"
    },
    "tags": []
   },
   "outputs": [
    {
     "data": {
      "text/markdown": [
       "Behind the walls, a fragile peace,\n",
       "Where giants roam, and terrors cease\n",
       "To slumber long. A titan's grin,\n",
       "An armored form, the fight begins.\n",
       "\n",
       "Eren's rage, a burning fire,\n",
       "To crush the foe, and climb higher.\n",
       "Mikasa's skill, a deadly dance,\n",
       "While humanity is given a chance.\n",
       "\n",
       "The truth concealed, a twisted game,\n",
       "For freedom's sake, to earn their name.\n",
       "A battle fought, in blood and tears,\n",
       "To conquer fear, and silence years\n",
       "Of whispered dread, and endless night,\n",
       "For a future bathed in promised light.\n"
      ],
      "text/plain": [
       "<IPython.core.display.Markdown object>"
      ]
     },
     "execution_count": 16,
     "metadata": {},
     "output_type": "execute_result"
    }
   ],
   "source": [
    "response = client.models.generate_content(\n",
    "    model = 'gemini-2.0-flash',\n",
    "    config = short_config,\n",
    "    contents = 'Write a short poem about Attack on Titan'\n",
    ")\n",
    "\n",
    "Markdown(response.text)"
   ]
  },
  {
   "cell_type": "code",
   "execution_count": 17,
   "id": "74a48de3",
   "metadata": {
    "execution": {
     "iopub.execute_input": "2025-04-03T02:45:55.679259Z",
     "iopub.status.busy": "2025-04-03T02:45:55.678928Z",
     "iopub.status.idle": "2025-04-03T02:45:57.601931Z",
     "shell.execute_reply": "2025-04-03T02:45:57.600551Z"
    },
    "papermill": {
     "duration": 1.932418,
     "end_time": "2025-04-03T02:45:57.603926",
     "exception": false,
     "start_time": "2025-04-03T02:45:55.671508",
     "status": "completed"
    },
    "tags": []
   },
   "outputs": [
    {
     "name": "stdout",
     "output_type": "stream",
     "text": [
      "Magenta.\n",
      " -------------------------\n",
      "Orange.\n",
      " -------------------------\n",
      "Cerulean.\n",
      " -------------------------\n",
      "Azure\n",
      " -------------------------\n",
      "Azure\n",
      " -------------------------\n"
     ]
    }
   ],
   "source": [
    "high_temp_config = types.GenerateContentConfig(temperature = 2.0)\n",
    "\n",
    "for _ in range(5):\n",
    "    response = client.models.generate_content(\n",
    "        model = 'gemini-2.0-flash',\n",
    "        config = high_temp_config,\n",
    "        contents = 'Pick a random color. Respond in a single word')\n",
    "\n",
    "    if response.text:\n",
    "        print(response.text, '-' * 25)"
   ]
  },
  {
   "cell_type": "code",
   "execution_count": 18,
   "id": "43340a2c",
   "metadata": {
    "execution": {
     "iopub.execute_input": "2025-04-03T02:45:57.619034Z",
     "iopub.status.busy": "2025-04-03T02:45:57.618672Z",
     "iopub.status.idle": "2025-04-03T02:45:59.920341Z",
     "shell.execute_reply": "2025-04-03T02:45:59.919083Z"
    },
    "papermill": {
     "duration": 2.31131,
     "end_time": "2025-04-03T02:45:59.922256",
     "exception": false,
     "start_time": "2025-04-03T02:45:57.610946",
     "status": "completed"
    },
    "tags": []
   },
   "outputs": [
    {
     "name": "stdout",
     "output_type": "stream",
     "text": [
      "Magenta\n",
      " -------------------------\n",
      "Magenta\n",
      " -------------------------\n",
      "Magenta\n",
      " -------------------------\n",
      "Magenta\n",
      " -------------------------\n",
      "Magenta\n",
      " -------------------------\n"
     ]
    }
   ],
   "source": [
    "high_temp_config = types.GenerateContentConfig(temperature = 0)\n",
    "\n",
    "for _ in range(5):\n",
    "    response = client.models.generate_content(\n",
    "        model = 'gemini-2.0-flash',\n",
    "        config = high_temp_config,\n",
    "        contents = 'Pick a random color. Respond in a single word')\n",
    "\n",
    "    if response.text:\n",
    "        print(response.text, '-' * 25)"
   ]
  },
  {
   "cell_type": "code",
   "execution_count": 19,
   "id": "c1c47e90",
   "metadata": {
    "execution": {
     "iopub.execute_input": "2025-04-03T02:45:59.939693Z",
     "iopub.status.busy": "2025-04-03T02:45:59.939285Z",
     "iopub.status.idle": "2025-04-03T02:46:08.363017Z",
     "shell.execute_reply": "2025-04-03T02:46:08.361938Z"
    },
    "papermill": {
     "duration": 8.433799,
     "end_time": "2025-04-03T02:46:08.364942",
     "exception": false,
     "start_time": "2025-04-03T02:45:59.931143",
     "status": "completed"
    },
    "tags": []
   },
   "outputs": [
    {
     "data": {
      "text/markdown": [
       "The wind howled a mournful dirge across the ravaged landscape, whipping strands of Anya’s hair across her face. She clung to the rooftop, her Survey Corps cloak flapping like a tattered wing. Paradis Island, her home, was a nightmare painted in shades of grey and crimson. Not just from the recent rumbling, but from years of relentless Titan attacks.\n",
       "\n",
       "Anya wasn't Mikasa or Levi, blessed with superhuman strength and grace. She was a tactician, a strategist. Her weapons were not blades and thunder spears, but information and observation. Now, though, her mind felt as shattered as the buildings around her.\n",
       "\n",
       "The Jaegerists had won. Eren, driven by some unfathomable goal, had unleashed the Rumbling, trampling the world beneath the feet of colossal Titans. The Survey Corps, once symbols of hope, were now fractured, some siding with Eren, others clinging to the futile hope of stopping him.\n",
       "\n",
       "Anya, along with a handful of loyalists, was holed up in what remained of Trost District, a ghost town haunted by the screams of the past. Their supplies were dwindling, morale was lower, and every dawn felt like a prelude to their own extinction.\n",
       "\n",
       "“Anything?” Hanji, her voice raspy from smoke and exhaustion, joined Anya on the rooftop. Her single eye, usually bright with scientific curiosity, held a weariness that pierced Anya’s heart.\n",
       "\n",
       "Anya shook her head, her throat too tight to speak. The horizon was a wall of Titans, a monstrous, slow-moving death sentence.\n",
       "\n",
       "“We need a plan, Hanji,” Anya finally managed, her voice barely a whisper. “We can’t just sit here and wait to be crushed.”\n",
       "\n",
       "Hanji sighed, running a hand through her greasy hair. “Plan? What plan is there? Eren is unstoppable. He’s… he’s gone.”\n",
       "\n",
       "Anya gripped the edge of the roof, knuckles white. “He’s not gone. There has to be a weakness. There always is.” She thought of Eren, a boy she had trained alongside, a boy driven by righteous fury. Could he truly be so far gone?\n",
       "\n",
       "That night, sleepless, Anya studied the maps spread out on a battered table. She poured over reports of past Titan encounters, searching for patterns, for anything that could give them an edge. She knew the location of the founding Titan was key, and she had a theory.\n",
       "\n",
       "\"The spinal fluid,\" she muttered, tracing a finger across a map showing potential paths for the Rumbling. \"The source of the Titan power... it has to be connected to a specific point.\"\n",
       "\n",
       "She realised that the Rumbling was slow. If Eren was concentrating on using the founder ability, he was sacrificing coordination. He was a single point of vulnerability in a wall of unstoppable destruction.\n",
       "\n",
       "The next morning, Anya presented her plan to the remaining members of her group. It was reckless, almost suicidal, but it was their only hope. They would use the cover of the Titans to get close to Eren. They would aim for his nape. One well-placed thunder spear, and maybe, just maybe, they could break the Rumbling.\n",
       "\n",
       "The plan was met with skepticism and fear, but Anya’s unwavering conviction, the desperate fire in her eyes, convinced them. They had nothing left to lose.\n",
       "\n",
       "Under the cover of darkness, they launched their attack. Using their 3D maneuver gear, they navigated the treacherous landscape, dodging falling debris and the ever-present threat of the colossal Titans. The heat emanating from the walking giants was suffocating, the ground vibrating with each earth-shattering step.\n",
       "\n",
       "The journey was brutal. Several members of Anya’s group fell, crushed or burned alive. The air was thick with the smell of death and despair. But Anya pressed on, fueled by a desperate hope and a burning determination to save what was left of her world.\n",
       "\n",
       "Finally, after what felt like an eternity, they reached their target: Eren. He stood within the skeletal form of the Founding Titan, his face obscured by the bone-like armor.\n",
       "\n",
       "Anya took a deep breath, the roar of the Rumbling a deafening cacophony around her. She raised her thunder spear, her hand trembling. This was it. The fate of the world rested on this one shot.\n",
       "\n",
       "Suddenly, a figure emerged from the shadows. It was Mikasa, her eyes filled with tears, her expression a mixture of anguish and resolve.\n",
       "\n",
       "“Anya, don’t!” she cried. “There has to be another way!”\n",
       "\n",
       "Anya hesitated. Mikasa was Eren’s closest friend, his protector. Could she be right? Was there a way to save him, to stop the Rumbling without killing him?\n",
       "\n",
       "But as Anya looked into Mikasa’s eyes, she saw not hope, but despair. Mikasa knew what had to be done. She just couldn’t bring herself to do it.\n",
       "\n",
       "Anya steeled herself. This wasn't about right or wrong. It was about survival. It was about saving the world from annihilation.\n",
       "\n",
       "With a cry of defiance, Anya fired the thunder spear. The weapon soared through the air, striking Eren’s nape with devastating force.\n",
       "\n",
       "The effect was immediate. The Rumbling faltered, the earth shaking less violently. The colossal Titans stumbled, their movements becoming erratic. The power that fueled them, the power that had ravaged the world, was weakening.\n",
       "\n",
       "Eren’s colossal form collapsed to the ground with a deafening crash. The world held its breath.\n",
       "\n",
       "Had it worked? Had they succeeded?\n",
       "\n",
       "As the dust settled, Anya looked at Mikasa. Mikasa's face was covered in tears. She was not happy, but relived. Mikasa knew this was the only way. \n",
       "\n",
       "She nodded at Anya, and Anya finally felt a small sense of hope bloom in her heart. It was over. The Rumbling had stopped. They had saved the world. But at what cost? The scars of the war would forever mark Paradis Island, a reminder of the darkness they had faced and the sacrifices they had made. \n",
       "\n",
       "Anya knew that the future was uncertain, but for the first time in a long time, she felt a flicker of optimism. They had survived. They had a chance to rebuild, to heal, to create a better world. And that, she realized, was worth fighting for. The fight wasn't over, but this was the first step to freedom.\n"
      ],
      "text/plain": [
       "<IPython.core.display.Markdown object>"
      ]
     },
     "execution_count": 19,
     "metadata": {},
     "output_type": "execute_result"
    }
   ],
   "source": [
    "model_config = types.GenerateContentConfig(temperature = 1.0,\n",
    "                                          top_p = 0.95)\n",
    "\n",
    "story_prompt = 'Write a fan story about Attack on Titan. You are a creative writer.'\n",
    "\n",
    "response = client.models.generate_content(\n",
    "    model = 'gemini-2.0-flash',\n",
    "    config = model_config,\n",
    "    contents = story_prompt\n",
    ")\n",
    "\n",
    "Markdown(response.text)"
   ]
  },
  {
   "cell_type": "code",
   "execution_count": 20,
   "id": "ad302f0b",
   "metadata": {
    "execution": {
     "iopub.execute_input": "2025-04-03T02:46:08.381237Z",
     "iopub.status.busy": "2025-04-03T02:46:08.380873Z",
     "iopub.status.idle": "2025-04-03T02:46:08.695746Z",
     "shell.execute_reply": "2025-04-03T02:46:08.694586Z"
    },
    "papermill": {
     "duration": 0.325033,
     "end_time": "2025-04-03T02:46:08.697486",
     "exception": false,
     "start_time": "2025-04-03T02:46:08.372453",
     "status": "completed"
    },
    "tags": []
   },
   "outputs": [
    {
     "name": "stdout",
     "output_type": "stream",
     "text": [
      "POSITIVE\n",
      "\n"
     ]
    }
   ],
   "source": [
    "model_config = types.GenerateContentConfig(\n",
    "    temperature=0.1,\n",
    "    top_p=1,\n",
    "    max_output_tokens=5,\n",
    ")\n",
    "\n",
    "zero_shot_prompt = \"\"\"Classify movie reviews as POSITIVE, NEUTRAL or NEGATIVE.\n",
    "Review: \"Her\" is a disturbing study revealing the direction\n",
    "humanity is headed if AI is allowed to keep evolving,\n",
    "unchecked. I wish there were more movies like this masterpiece.\n",
    "Sentiment: \"\"\"\n",
    "\n",
    "response = client.models.generate_content(\n",
    "    model='gemini-2.0-flash',\n",
    "    config=model_config,\n",
    "    contents=zero_shot_prompt)\n",
    "\n",
    "print(response.text)"
   ]
  },
  {
   "cell_type": "code",
   "execution_count": 21,
   "id": "c32c9438",
   "metadata": {
    "execution": {
     "iopub.execute_input": "2025-04-03T02:46:08.714084Z",
     "iopub.status.busy": "2025-04-03T02:46:08.713733Z",
     "iopub.status.idle": "2025-04-03T02:46:09.116611Z",
     "shell.execute_reply": "2025-04-03T02:46:09.115440Z"
    },
    "papermill": {
     "duration": 0.413611,
     "end_time": "2025-04-03T02:46:09.118467",
     "exception": false,
     "start_time": "2025-04-03T02:46:08.704856",
     "status": "completed"
    },
    "tags": []
   },
   "outputs": [
    {
     "name": "stdout",
     "output_type": "stream",
     "text": [
      "positive\n"
     ]
    }
   ],
   "source": [
    "import enum\n",
    "\n",
    "class Sentiment(enum.Enum):\n",
    "    POSITIVE = 'positive'\n",
    "    NEUTRAL = 'neutral'\n",
    "    NEGATIVE = 'negative'\n",
    "\n",
    "response = client.models.generate_content(\n",
    "    model = 'gemini-2.0-flash',\n",
    "    config = types.GenerateContentConfig(\n",
    "        response_mime_type = \"text/x.enum\",\n",
    "        response_schema = Sentiment\n",
    "    ),\n",
    "    contents = zero_shot_prompt\n",
    ")\n",
    "\n",
    "print(response.text)"
   ]
  },
  {
   "cell_type": "code",
   "execution_count": 22,
   "id": "c18dde34",
   "metadata": {
    "execution": {
     "iopub.execute_input": "2025-04-03T02:46:09.134796Z",
     "iopub.status.busy": "2025-04-03T02:46:09.134461Z",
     "iopub.status.idle": "2025-04-03T02:46:09.140095Z",
     "shell.execute_reply": "2025-04-03T02:46:09.138844Z"
    },
    "papermill": {
     "duration": 0.015809,
     "end_time": "2025-04-03T02:46:09.141922",
     "exception": false,
     "start_time": "2025-04-03T02:46:09.126113",
     "status": "completed"
    },
    "tags": []
   },
   "outputs": [
    {
     "name": "stdout",
     "output_type": "stream",
     "text": [
      "Sentiment.POSITIVE\n",
      "<enum 'Sentiment'>\n"
     ]
    }
   ],
   "source": [
    "enum_response = response.parsed\n",
    "print(enum_response)\n",
    "print(type(enum_response))"
   ]
  },
  {
   "cell_type": "code",
   "execution_count": 23,
   "id": "80cddcc1",
   "metadata": {
    "execution": {
     "iopub.execute_input": "2025-04-03T02:46:09.158081Z",
     "iopub.status.busy": "2025-04-03T02:46:09.157745Z",
     "iopub.status.idle": "2025-04-03T02:46:10.187207Z",
     "shell.execute_reply": "2025-04-03T02:46:10.186158Z"
    },
    "papermill": {
     "duration": 1.039493,
     "end_time": "2025-04-03T02:46:10.188994",
     "exception": false,
     "start_time": "2025-04-03T02:46:09.149501",
     "status": "completed"
    },
    "tags": []
   },
   "outputs": [
    {
     "name": "stdout",
     "output_type": "stream",
     "text": [
      "Based on the original Transformer paper, \"Attention is All You Need\" (Vaswani et al., 2017), the youngest author is **Jakob Uszkoreit**.\n",
      "\n",
      "While age isn't explicitly listed, it can be inferred based on the year of the paper's publication (2017) and typical academic career paths. Jakob Uszkoreit was a research scientist at Google Brain at the time, suggesting that he was likely the youngest of the co-authors.\n"
     ]
    },
    {
     "data": {
      "text/markdown": [
       "Based on the original Transformer paper, \"Attention is All You Need\" (Vaswani et al., 2017), the youngest author is **Jakob Uszkoreit**.\n",
       "\n",
       "While age isn't explicitly listed, it can be inferred based on the year of the paper's publication (2017) and typical academic career paths. Jakob Uszkoreit was a research scientist at Google Brain at the time, suggesting that he was likely the youngest of the co-authors.\n"
      ],
      "text/plain": [
       "<IPython.core.display.Markdown object>"
      ]
     },
     "execution_count": 23,
     "metadata": {},
     "output_type": "execute_result"
    }
   ],
   "source": [
    "import io\n",
    "from IPython.display import Markdown, clear_output\n",
    "\n",
    "response = client.models.generate_content_stream(\n",
    "    model = 'gemini-2.0-flash',\n",
    "    contents = 'Who was the youngest author listed on the the NLP transformer paper?'\n",
    ")\n",
    "\n",
    "buf = io.StringIO()\n",
    "\n",
    "for chunk in response:\n",
    "    buf.write(chunk.text)\n",
    "    print(chunk.text, end='')\n",
    "\n",
    "Markdown(buf.getvalue())"
   ]
  },
  {
   "cell_type": "code",
   "execution_count": null,
   "id": "dd522b88",
   "metadata": {
    "papermill": {
     "duration": 0.007353,
     "end_time": "2025-04-03T02:46:10.204190",
     "exception": false,
     "start_time": "2025-04-03T02:46:10.196837",
     "status": "completed"
    },
    "tags": []
   },
   "outputs": [],
   "source": []
  }
 ],
 "metadata": {
  "kaggle": {
   "accelerator": "none",
   "dataSources": [],
   "dockerImageVersionId": 30918,
   "isGpuEnabled": false,
   "isInternetEnabled": true,
   "language": "python",
   "sourceType": "notebook"
  },
  "kernelspec": {
   "display_name": "Python 3",
   "language": "python",
   "name": "python3"
  },
  "language_info": {
   "codemirror_mode": {
    "name": "ipython",
    "version": 3
   },
   "file_extension": ".py",
   "mimetype": "text/x-python",
   "name": "python",
   "nbconvert_exporter": "python",
   "pygments_lexer": "ipython3",
   "version": "3.10.12"
  },
  "papermill": {
   "default_parameters": {},
   "duration": 42.731687,
   "end_time": "2025-04-03T02:46:11.033205",
   "environment_variables": {},
   "exception": null,
   "input_path": "__notebook__.ipynb",
   "output_path": "__notebook__.ipynb",
   "parameters": {},
   "start_time": "2025-04-03T02:45:28.301518",
   "version": "2.6.0"
  }
 },
 "nbformat": 4,
 "nbformat_minor": 5
}
