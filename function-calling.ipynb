{
 "cells": [
  {
   "cell_type": "code",
   "execution_count": 1,
   "id": "615b6a50",
   "metadata": {
    "_cell_guid": "b1076dfc-b9ad-4769-8c92-a6c4dae69d19",
    "_uuid": "8f2839f25d086af736a60e9eeb907d3b93b6e0e5",
    "execution": {
     "iopub.execute_input": "2025-04-25T02:55:24.716275Z",
     "iopub.status.busy": "2025-04-25T02:55:24.715191Z",
     "iopub.status.idle": "2025-04-25T02:55:34.009230Z",
     "shell.execute_reply": "2025-04-25T02:55:34.007886Z"
    },
    "papermill": {
     "duration": 9.302123,
     "end_time": "2025-04-25T02:55:34.011377",
     "exception": false,
     "start_time": "2025-04-25T02:55:24.709254",
     "status": "completed"
    },
    "tags": []
   },
   "outputs": [
    {
     "name": "stdout",
     "output_type": "stream",
     "text": [
      "\u001b[2K   \u001b[90m━━━━━━━━━━━━━━━━━━━━━━━━━━━━━━━━━━━━━━━━\u001b[0m \u001b[32m144.7/144.7 kB\u001b[0m \u001b[31m4.5 MB/s\u001b[0m eta \u001b[36m0:00:00\u001b[0m\r\n",
      "\u001b[2K   \u001b[90m━━━━━━━━━━━━━━━━━━━━━━━━━━━━━━━━━━━━━━━━\u001b[0m \u001b[32m100.9/100.9 kB\u001b[0m \u001b[31m5.1 MB/s\u001b[0m eta \u001b[36m0:00:00\u001b[0m\r\n",
      "\u001b[?25h\u001b[31mERROR: pip's dependency resolver does not currently take into account all the packages that are installed. This behaviour is the source of the following dependency conflicts.\r\n",
      "jupyterlab-lsp 3.10.2 requires jupyterlab<4.0.0a0,>=3.1.0, which is not installed.\u001b[0m\u001b[31m\r\n",
      "\u001b[0m"
     ]
    }
   ],
   "source": [
    "!pip uninstall -qqy jupyterlab\n",
    "!pip install -U -q \"google-genai==1.7.0\""
   ]
  },
  {
   "cell_type": "code",
   "execution_count": 2,
   "id": "2f485efa",
   "metadata": {
    "execution": {
     "iopub.execute_input": "2025-04-25T02:55:34.020780Z",
     "iopub.status.busy": "2025-04-25T02:55:34.020374Z",
     "iopub.status.idle": "2025-04-25T02:55:35.505899Z",
     "shell.execute_reply": "2025-04-25T02:55:35.504884Z"
    },
    "papermill": {
     "duration": 1.491977,
     "end_time": "2025-04-25T02:55:35.507578",
     "exception": false,
     "start_time": "2025-04-25T02:55:34.015601",
     "status": "completed"
    },
    "tags": []
   },
   "outputs": [
    {
     "data": {
      "text/plain": [
       "'1.7.0'"
      ]
     },
     "execution_count": 2,
     "metadata": {},
     "output_type": "execute_result"
    }
   ],
   "source": [
    "from google import genai\n",
    "from google.genai import types\n",
    "\n",
    "genai.__version__"
   ]
  },
  {
   "cell_type": "code",
   "execution_count": 3,
   "id": "33de7e86",
   "metadata": {
    "execution": {
     "iopub.execute_input": "2025-04-25T02:55:35.518086Z",
     "iopub.status.busy": "2025-04-25T02:55:35.516590Z",
     "iopub.status.idle": "2025-04-25T02:55:35.700237Z",
     "shell.execute_reply": "2025-04-25T02:55:35.699300Z"
    },
    "papermill": {
     "duration": 0.190512,
     "end_time": "2025-04-25T02:55:35.702183",
     "exception": false,
     "start_time": "2025-04-25T02:55:35.511671",
     "status": "completed"
    },
    "tags": []
   },
   "outputs": [],
   "source": [
    "from kaggle_secrets import UserSecretsClient\n",
    "user_secrets = UserSecretsClient()\n",
    "GOOGLE_API_KEY = user_secrets.get_secret(\"GOOGLE_API_KEY\")"
   ]
  },
  {
   "cell_type": "code",
   "execution_count": 4,
   "id": "5c6af8dd",
   "metadata": {
    "execution": {
     "iopub.execute_input": "2025-04-25T02:55:35.711963Z",
     "iopub.status.busy": "2025-04-25T02:55:35.711515Z",
     "iopub.status.idle": "2025-04-25T02:55:36.045724Z",
     "shell.execute_reply": "2025-04-25T02:55:36.044487Z"
    },
    "papermill": {
     "duration": 0.341478,
     "end_time": "2025-04-25T02:55:36.047712",
     "exception": false,
     "start_time": "2025-04-25T02:55:35.706234",
     "status": "completed"
    },
    "tags": []
   },
   "outputs": [],
   "source": [
    "# Retry automatically if API quota limit is hit or if model needs to make multiple consecutive calls\n",
    "# 429 -> Too many calls\n",
    "# 503 -> Service unavailable\n",
    "\n",
    "from google.api_core import retry\n",
    "\n",
    "is_retriable = lambda e: (isinstance(e, genai.errors.APIError) and e.code in {429, 503})\n",
    "\n",
    "if not hasattr(genai.models.Models.generate_content, '__wrapped__'):\n",
    "    genai.models.Models.generate_content = retry.Retry(predicate = is_retriable)(genai.models.Models.generate_content)"
   ]
  },
  {
   "cell_type": "code",
   "execution_count": 5,
   "id": "c7d01021",
   "metadata": {
    "execution": {
     "iopub.execute_input": "2025-04-25T02:55:36.059120Z",
     "iopub.status.busy": "2025-04-25T02:55:36.058506Z",
     "iopub.status.idle": "2025-04-25T02:55:39.498891Z",
     "shell.execute_reply": "2025-04-25T02:55:39.497364Z"
    },
    "papermill": {
     "duration": 3.449394,
     "end_time": "2025-04-25T02:55:39.501174",
     "exception": false,
     "start_time": "2025-04-25T02:55:36.051780",
     "status": "completed"
    },
    "tags": []
   },
   "outputs": [],
   "source": [
    "%load_ext sql\n",
    "%sql sqlite:///sample.db"
   ]
  },
  {
   "cell_type": "code",
   "execution_count": 6,
   "id": "3e1e5a3c",
   "metadata": {
    "execution": {
     "iopub.execute_input": "2025-04-25T02:55:39.511304Z",
     "iopub.status.busy": "2025-04-25T02:55:39.510586Z",
     "iopub.status.idle": "2025-04-25T02:55:39.599159Z",
     "shell.execute_reply": "2025-04-25T02:55:39.598073Z"
    },
    "papermill": {
     "duration": 0.095705,
     "end_time": "2025-04-25T02:55:39.601054",
     "exception": false,
     "start_time": "2025-04-25T02:55:39.505349",
     "status": "completed"
    },
    "tags": []
   },
   "outputs": [
    {
     "name": "stdout",
     "output_type": "stream",
     "text": [
      " * sqlite:///sample.db\n",
      "Done.\n",
      "Done.\n",
      "Done.\n",
      "3 rows affected.\n",
      "3 rows affected.\n",
      "3 rows affected.\n"
     ]
    },
    {
     "data": {
      "text/plain": [
       "[]"
      ]
     },
     "execution_count": 6,
     "metadata": {},
     "output_type": "execute_result"
    }
   ],
   "source": [
    "%%sql\n",
    "\n",
    "CREATE TABLE IF NOT EXISTS Products(\n",
    "    product_id INTEGER PRIMARY KEY AUTOINCREMENT,\n",
    "    product_name VARCHAR(255) NOT NULL,\n",
    "    price DECIMAL(10,2) NOT NULL\n",
    ");\n",
    "\n",
    "CREATE TABLE IF NOT EXISTS Staff(\n",
    "    staff_id INTEGER PRIMARY KEY AUTOINCREMENT,\n",
    "    first_name VARCHAR(255) NOT NULL,\n",
    "    last_name VARCHAR(255) NOT NULL\n",
    ");\n",
    "\n",
    "CREATE TABLE IF NOT EXISTS Orders(\n",
    "    order_id INTEGER PRIMARY KEY AUTOINCREMENT,\n",
    "    customer_name VARCHAR(255) NOT NULL,\n",
    "    staff_id INTEGER NOT NULL,\n",
    "    product_id INTEGER NOT NULL,\n",
    "    FOREIGN KEY(staff_id) REFERENCES Staff(staff_id),\n",
    "    FOREIGN KEY(product_id) REFERENCES Products(product_id)\n",
    ");\n",
    "\n",
    "\n",
    "\n",
    "INSERT INTO Products (product_name, price) VALUES\n",
    "('Laptop', 799.99),\n",
    "('Keyboard', 129.99),\n",
    "('Mouse', 29.99);\n",
    "\n",
    "\n",
    "INSERT INTO Staff (first_name, last_name) VALUES\n",
    "('Alice', 'Smith'),\n",
    "('Bob', 'Johnson'),\n",
    "('Charlie', 'Williams');\n",
    "\n",
    "INSERT INTO Orders (customer_name, staff_id, product_id) VALUES \n",
    "('David Lee', 1, 1),\n",
    "('Emily Chen', 2, 2),\n",
    "('Frank Brown', 1, 3);"
   ]
  },
  {
   "cell_type": "code",
   "execution_count": 7,
   "id": "4a03cf15",
   "metadata": {
    "execution": {
     "iopub.execute_input": "2025-04-25T02:55:39.611362Z",
     "iopub.status.busy": "2025-04-25T02:55:39.610946Z",
     "iopub.status.idle": "2025-04-25T02:55:39.616941Z",
     "shell.execute_reply": "2025-04-25T02:55:39.615745Z"
    },
    "papermill": {
     "duration": 0.013526,
     "end_time": "2025-04-25T02:55:39.618749",
     "exception": false,
     "start_time": "2025-04-25T02:55:39.605223",
     "status": "completed"
    },
    "tags": []
   },
   "outputs": [],
   "source": [
    "import sqlite3\n",
    "\n",
    "db_file = 'sample.db'\n",
    "db_conn = sqlite3.connect(db_file)"
   ]
  },
  {
   "cell_type": "code",
   "execution_count": 8,
   "id": "1107a4ef",
   "metadata": {
    "execution": {
     "iopub.execute_input": "2025-04-25T02:55:39.629267Z",
     "iopub.status.busy": "2025-04-25T02:55:39.628813Z",
     "iopub.status.idle": "2025-04-25T02:55:39.639428Z",
     "shell.execute_reply": "2025-04-25T02:55:39.638409Z"
    },
    "papermill": {
     "duration": 0.017711,
     "end_time": "2025-04-25T02:55:39.641175",
     "exception": false,
     "start_time": "2025-04-25T02:55:39.623464",
     "status": "completed"
    },
    "tags": []
   },
   "outputs": [
    {
     "name": "stdout",
     "output_type": "stream",
     "text": [
      "-DB CALL: list_tables()\n"
     ]
    },
    {
     "data": {
      "text/plain": [
       "['Products', 'sqlite_sequence', 'Staff', 'Orders']"
      ]
     },
     "execution_count": 8,
     "metadata": {},
     "output_type": "execute_result"
    }
   ],
   "source": [
    "def list_tables() -> list[str]:\n",
    "    print('-DB CALL: list_tables()')\n",
    "    cursor = db_conn.cursor()\n",
    "\n",
    "    cursor.execute(\"SELECT name FROM sqlite_master WHERE type = 'table';\")\n",
    "    tables = cursor.fetchall()\n",
    "\n",
    "    return [t[0] for t in tables]\n",
    "\n",
    "list_tables()"
   ]
  },
  {
   "cell_type": "code",
   "execution_count": 9,
   "id": "1b4b2c78",
   "metadata": {
    "execution": {
     "iopub.execute_input": "2025-04-25T02:55:39.651532Z",
     "iopub.status.busy": "2025-04-25T02:55:39.651194Z",
     "iopub.status.idle": "2025-04-25T02:55:39.660176Z",
     "shell.execute_reply": "2025-04-25T02:55:39.659344Z"
    },
    "papermill": {
     "duration": 0.016321,
     "end_time": "2025-04-25T02:55:39.662131",
     "exception": false,
     "start_time": "2025-04-25T02:55:39.645810",
     "status": "completed"
    },
    "tags": []
   },
   "outputs": [
    {
     "name": "stdout",
     "output_type": "stream",
     "text": [
      "-DB CALL: describe_table(Products)\n"
     ]
    },
    {
     "data": {
      "text/plain": [
       "[('product_id', 'INTEGER'),\n",
       " ('product_name', 'VARCHAR(255)'),\n",
       " ('price', 'DECIMAL(10,2)')]"
      ]
     },
     "execution_count": 9,
     "metadata": {},
     "output_type": "execute_result"
    }
   ],
   "source": [
    "def describe_table(table_name: str) -> list[tuple[str, str]]:\n",
    "    print(f'-DB CALL: describe_table({table_name})')\n",
    "    cursor = db_conn.cursor()\n",
    "    \n",
    "    cursor.execute(f'PRAGMA table_info({table_name});')\n",
    "    schema = cursor.fetchall()\n",
    "\n",
    "    return [(col[1], col[2]) for col in schema]\n",
    "\n",
    "describe_table('Products')"
   ]
  },
  {
   "cell_type": "code",
   "execution_count": 10,
   "id": "5e124262",
   "metadata": {
    "execution": {
     "iopub.execute_input": "2025-04-25T02:55:39.672365Z",
     "iopub.status.busy": "2025-04-25T02:55:39.672023Z",
     "iopub.status.idle": "2025-04-25T02:55:39.681091Z",
     "shell.execute_reply": "2025-04-25T02:55:39.680055Z"
    },
    "papermill": {
     "duration": 0.016101,
     "end_time": "2025-04-25T02:55:39.682684",
     "exception": false,
     "start_time": "2025-04-25T02:55:39.666583",
     "status": "completed"
    },
    "tags": []
   },
   "outputs": [
    {
     "name": "stdout",
     "output_type": "stream",
     "text": [
      "-DB CALL: execute_query(SELECT * FROM Products)\n"
     ]
    },
    {
     "data": {
      "text/plain": [
       "[(1, 'Laptop', 799.99), (2, 'Keyboard', 129.99), (3, 'Mouse', 29.99)]"
      ]
     },
     "execution_count": 10,
     "metadata": {},
     "output_type": "execute_result"
    }
   ],
   "source": [
    "def execute_query(sql: str) -> list[list[str]]:\n",
    "    print(f'-DB CALL: execute_query({sql})')\n",
    "    cursor = db_conn.cursor()\n",
    "\n",
    "    cursor.execute(sql)\n",
    "    return cursor.fetchall()\n",
    "\n",
    "execute_query('SELECT * FROM Products')"
   ]
  },
  {
   "cell_type": "code",
   "execution_count": 11,
   "id": "ceeae2c0",
   "metadata": {
    "execution": {
     "iopub.execute_input": "2025-04-25T02:55:39.693350Z",
     "iopub.status.busy": "2025-04-25T02:55:39.692551Z",
     "iopub.status.idle": "2025-04-25T02:55:40.125741Z",
     "shell.execute_reply": "2025-04-25T02:55:40.124600Z"
    },
    "papermill": {
     "duration": 0.440641,
     "end_time": "2025-04-25T02:55:40.127770",
     "exception": false,
     "start_time": "2025-04-25T02:55:39.687129",
     "status": "completed"
    },
    "tags": []
   },
   "outputs": [],
   "source": [
    "db_tools = [list_tables, describe_table, execute_query]\n",
    "\n",
    "instruction = \"\"\"\n",
    "You are a helpful chatbot that can interact with a SQL database\n",
    "for a computer store. You will take the users questions and turn them into SQL\n",
    "queries using the tools available. Once you have the information you need, you will\n",
    "answer the user's question using the data returned.\n",
    "\n",
    "Use list_tables to see what tables are present, describe_table to understand the\n",
    "schema, and execute_query to issue a SQL SELECT query.\n",
    "\"\"\"\n",
    "\n",
    "client = genai.Client(api_key = GOOGLE_API_KEY)\n",
    "\n",
    "chat = client.chats.create(\n",
    "    model = 'gemini-2.0-flash',\n",
    "    config = types.GenerateContentConfig(\n",
    "        system_instruction = instruction,\n",
    "        tools = db_tools,\n",
    "    ),\n",
    ")"
   ]
  },
  {
   "cell_type": "code",
   "execution_count": 12,
   "id": "c4036e9a",
   "metadata": {
    "execution": {
     "iopub.execute_input": "2025-04-25T02:55:40.138261Z",
     "iopub.status.busy": "2025-04-25T02:55:40.137841Z",
     "iopub.status.idle": "2025-04-25T02:55:41.581766Z",
     "shell.execute_reply": "2025-04-25T02:55:41.580715Z"
    },
    "papermill": {
     "duration": 1.451206,
     "end_time": "2025-04-25T02:55:41.583484",
     "exception": false,
     "start_time": "2025-04-25T02:55:40.132278",
     "status": "completed"
    },
    "tags": []
   },
   "outputs": [
    {
     "name": "stdout",
     "output_type": "stream",
     "text": [
      "-DB CALL: execute_query(SELECT * FROM products ORDER BY price LIMIT 1)\n",
      "\n",
      "The cheapest product is the Mouse, which costs $29.99.\n",
      "\n"
     ]
    }
   ],
   "source": [
    "resp = chat.send_message('What is the cheapest product?')\n",
    "\n",
    "print(f'\\n{resp.text}')"
   ]
  },
  {
   "cell_type": "code",
   "execution_count": 13,
   "id": "ce9c4e76",
   "metadata": {
    "execution": {
     "iopub.execute_input": "2025-04-25T02:55:41.593926Z",
     "iopub.status.busy": "2025-04-25T02:55:41.593487Z",
     "iopub.status.idle": "2025-04-25T02:55:45.334025Z",
     "shell.execute_reply": "2025-04-25T02:55:45.332359Z"
    },
    "papermill": {
     "duration": 3.748553,
     "end_time": "2025-04-25T02:55:45.336504",
     "exception": false,
     "start_time": "2025-04-25T02:55:41.587951",
     "status": "completed"
    },
    "tags": []
   },
   "outputs": [
    {
     "name": "stdout",
     "output_type": "stream",
     "text": [
      "-DB CALL: list_tables()\n",
      "-DB CALL: describe_table(Products)\n",
      "-DB CALL: describe_table(Staff)\n",
      "-DB CALL: describe_table(Orders)\n",
      "-DB CALL: execute_query(SELECT Products.product_name FROM Products LEFT JOIN Orders ON Products.product_id = Orders.product_id LEFT JOIN Staff ON Orders.staff_id = Staff.staff_id WHERE Staff.first_name = 'Alice' GROUP BY Products.product_name ORDER BY COUNT(Orders.order_id) ASC LIMIT 5)\n",
      "\n",
      "Alice should focus on selling Laptops and Mouse. These are the 2 least sold products by Alice. By focusing on these products, Alice can potentially increase her overall sales and diversify her portfolio.\n",
      "\n"
     ]
    }
   ],
   "source": [
    "chat = client.chats.create(\n",
    "    model = 'gemini-2.0-flash',\n",
    "    config = types.GenerateContentConfig(\n",
    "        system_instruction = instruction,\n",
    "        tools = db_tools,\n",
    "    ),\n",
    ")\n",
    "\n",
    "resp = chat.send_message('What products should Alice focus on selling to round out her portfolio? Explain why.')\n",
    "\n",
    "print(f'\\n{resp.text}')"
   ]
  },
  {
   "cell_type": "code",
   "execution_count": 14,
   "id": "62f9a8f8",
   "metadata": {
    "execution": {
     "iopub.execute_input": "2025-04-25T02:55:45.348667Z",
     "iopub.status.busy": "2025-04-25T02:55:45.348284Z",
     "iopub.status.idle": "2025-04-25T02:55:45.356987Z",
     "shell.execute_reply": "2025-04-25T02:55:45.355718Z"
    },
    "papermill": {
     "duration": 0.017057,
     "end_time": "2025-04-25T02:55:45.358918",
     "exception": false,
     "start_time": "2025-04-25T02:55:45.341861",
     "status": "completed"
    },
    "tags": []
   },
   "outputs": [
    {
     "name": "stdout",
     "output_type": "stream",
     "text": [
      "User:\n",
      "\"What products should Alice focus on selling to round out her portfolio? Explain why.\"\"\n",
      "\n",
      "Model:\n",
      "Function call list_tables()\n",
      "\n",
      "User:\n",
      "Function response\n",
      "    ['Products', 'sqlite_sequence', 'Staff', 'Orders']\n",
      "\n",
      "Model:\n",
      "Function call describe_table(table_name = Products)\n",
      "\n",
      "User:\n",
      "Function response\n",
      "    [('product_id', 'INTEGER'), ('product_name', 'VARCHAR(255)'), ('price', 'DECIMAL(10,2)')]\n",
      "\n",
      "Model:\n",
      "Function call describe_table(table_name = Staff)\n",
      "\n",
      "User:\n",
      "Function response\n",
      "    [('staff_id', 'INTEGER'), ('first_name', 'VARCHAR(255)'), ('last_name', 'VARCHAR(255)')]\n",
      "\n",
      "Model:\n",
      "Function call describe_table(table_name = Orders)\n",
      "\n",
      "User:\n",
      "Function response\n",
      "    [('order_id', 'INTEGER'), ('customer_name', 'VARCHAR(255)'), ('staff_id', 'INTEGER'), ('product_id', 'INTEGER')]\n",
      "\n",
      "Model:\n",
      "Function call execute_query(sql = SELECT Products.product_name FROM Products LEFT JOIN Orders ON Products.product_id = Orders.product_id LEFT JOIN Staff ON Orders.staff_id = Staff.staff_id WHERE Staff.first_name = 'Alice' GROUP BY Products.product_name ORDER BY COUNT(Orders.order_id) ASC LIMIT 5)\n",
      "\n",
      "User:\n",
      "Function response\n",
      "    [('Laptop',), ('Mouse',)]\n",
      "\n",
      "Model:\n",
      "\"Alice should focus on selling Laptops and Mouse. These are the 2 least sold products by Alice. By focusing on these products, Alice can potentially increase her overall sales and diversify her portfolio.\n",
      "\"\"\n",
      "\n"
     ]
    }
   ],
   "source": [
    "import textwrap\n",
    "\n",
    "def print_chat_turns(chat):\n",
    "    for event in chat.get_history():\n",
    "        print(f'{event.role.capitalize()}:')\n",
    "        for part in event.parts:\n",
    "            if txt := part.text:\n",
    "                print(f'\"{txt}\"\"')\n",
    "            elif fn := part.function_call:\n",
    "                args = \", \".join(f'{key} = {val}' for key, val in fn.args.items())\n",
    "                print(f'Function call {fn.name}({args})')\n",
    "            elif resp := part.function_response:\n",
    "                print(\"Function response\")\n",
    "                print(textwrap.indent(str(resp.response['result']), \"    \"))\n",
    "        print()\n",
    "\n",
    "print_chat_turns(chat)"
   ]
  },
  {
   "cell_type": "code",
   "execution_count": null,
   "id": "5b02f4d0",
   "metadata": {
    "papermill": {
     "duration": 0.00492,
     "end_time": "2025-04-25T02:55:45.369131",
     "exception": false,
     "start_time": "2025-04-25T02:55:45.364211",
     "status": "completed"
    },
    "tags": []
   },
   "outputs": [],
   "source": []
  }
 ],
 "metadata": {
  "kaggle": {
   "accelerator": "none",
   "dataSources": [],
   "dockerImageVersionId": 31012,
   "isGpuEnabled": false,
   "isInternetEnabled": true,
   "language": "python",
   "sourceType": "notebook"
  },
  "kernelspec": {
   "display_name": "Python 3",
   "language": "python",
   "name": "python3"
  },
  "language_info": {
   "codemirror_mode": {
    "name": "ipython",
    "version": 3
   },
   "file_extension": ".py",
   "mimetype": "text/x-python",
   "name": "python",
   "nbconvert_exporter": "python",
   "pygments_lexer": "ipython3",
   "version": "3.11.11"
  },
  "papermill": {
   "default_parameters": {},
   "duration": 27.125246,
   "end_time": "2025-04-25T02:55:46.699897",
   "environment_variables": {},
   "exception": null,
   "input_path": "__notebook__.ipynb",
   "output_path": "__notebook__.ipynb",
   "parameters": {},
   "start_time": "2025-04-25T02:55:19.574651",
   "version": "2.6.0"
  }
 },
 "nbformat": 4,
 "nbformat_minor": 5
}
